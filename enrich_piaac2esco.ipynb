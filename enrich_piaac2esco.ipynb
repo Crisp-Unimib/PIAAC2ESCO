{
 "cells": [
  {
   "cell_type": "markdown",
   "metadata": {},
   "source": [
    "# Enriched PIAAC2ESCO \n",
    "We enrich the existing validated mapping by introducing alernative labels and hidden labels as synonyms of the skill that is matched.\n",
    "\n",
    "## To do:\n",
    "- add other ESCO Skills that are complement to those matched and enriched"
   ]
  },
  {
   "cell_type": "code",
   "execution_count": 1,
   "metadata": {},
   "outputs": [],
   "source": [
    "# Libraries\n",
    "import zipfile\n",
    "import pandas as pd\n",
    "import numpy as np\n",
    "import ast"
   ]
  },
  {
   "cell_type": "markdown",
   "metadata": {},
   "source": [
    "Import ESCO and prepare the dataset"
   ]
  },
  {
   "cell_type": "code",
   "execution_count": 2,
   "metadata": {},
   "outputs": [],
   "source": [
    "with zipfile.ZipFile('utils/ESCO dataset - v1.0.3 - classification - en - csv.zip') as z:\n",
    "   df=pd.read_csv(z.open('skills_en.csv'))\n",
    "\n",
    "# Create a newcolumn to use hidden labels as preferred labels. \n",
    "df['newcol']=df['altLabels']+'\\n'+df['hiddenLabels'].astype(str)\n",
    "df['newcol'].replace({'\\nnan':''},regex=True, inplace=True)\n",
    "# Newcol: From string to list\n",
    "df['newcol']=df['newcol'].str.split(pat='\\n') \n",
    "\n",
    "## alternative and hidden lables: From string to list\n",
    "# df['altLabels']=df['altLabels'].str.split(pat='\\n')\n",
    "# df['hiddenLabels']=df['hiddenLabels'].str.split(pat='\\n')\n",
    "\n",
    "# Select \n",
    "df_morelabels=df[['preferredLabel','newcol']]"
   ]
  },
  {
   "cell_type": "code",
   "execution_count": 3,
   "metadata": {},
   "outputs": [],
   "source": [
    "# # TEST ESCOskill use word processing software\n",
    "# df_morelabels[df_morelabels['preferredLabel']=='use word processing software'].explode('newcol')"
   ]
  },
  {
   "cell_type": "markdown",
   "metadata": {},
   "source": [
    "Import the PIAAC-ESCO mapping"
   ]
  },
  {
   "cell_type": "code",
   "execution_count": 4,
   "metadata": {},
   "outputs": [],
   "source": [
    "df_piaac2esco=pd.read_excel('utils/ESCO_PIAAC_results_mapped_v2.xlsx',usecols=['Isco_Level_2', 'preferredLabel', 'Question Id', 'Question Description','ESCO skill', 'others_skill_rca']).rename(columns={'preferredLabel':'Isco_Level_2_preferredLabel','Question Id':'PIAAC_QuestionId','Question Description':'PIAAC_QuestionDescription','ESCO skill':'ESCOskill','others_skill_rca':'ESCOskill_others'})\n",
    "# Convert lists from string to list dtypes\n",
    "df_piaac2esco.loc[:,['ESCOskill','ESCOskill_others']]=df_piaac2esco.loc[:,['ESCOskill','ESCOskill_others']].applymap(lambda x : ast.literal_eval(x))\n",
    "# Explode the dataset\n",
    "df_piaac2esco_xlpd=df_piaac2esco.explode('ESCOskill')\n"
   ]
  },
  {
   "cell_type": "markdown",
   "metadata": {},
   "source": [
    "Merge the piaac2esco mapping and the enriched set of labels"
   ]
  },
  {
   "cell_type": "code",
   "execution_count": 5,
   "metadata": {},
   "outputs": [],
   "source": [
    "df_morelabels_xpld=df_morelabels.merge(df_piaac2esco_xlpd,left_on='preferredLabel', right_on='ESCOskill', how='inner').iloc[:,1:-1].rename(columns={'newcol':'ESCOskill'}).explode('ESCOskill')\n",
    "\n",
    "# concat in final dataset\n",
    "df_final=pd.concat([df_piaac2esco_xlpd, df_morelabels_xpld])\n",
    "\n",
    "# Select and polish\n",
    "df_final=df_final.sort_values(['Isco_Level_2','PIAAC_QuestionId','ESCOskill']).loc[:,['Isco_Level_2','Isco_Level_2_preferredLabel','PIAAC_QuestionId','PIAAC_QuestionDescription','ESCOskill']]"
   ]
  },
  {
   "cell_type": "code",
   "execution_count": 124,
   "metadata": {},
   "outputs": [],
   "source": [
    "# Export\n",
    "df_final.to_csv('output/PIAAC2ESCO_enriched.csv', index=False)"
   ]
  }
 ],
 "metadata": {
  "kernelspec": {
   "display_name": "Python 3.8.13 ('base')",
   "language": "python",
   "name": "python3"
  },
  "language_info": {
   "codemirror_mode": {
    "name": "ipython",
    "version": 3
   },
   "file_extension": ".py",
   "mimetype": "text/x-python",
   "name": "python",
   "nbconvert_exporter": "python",
   "pygments_lexer": "ipython3",
   "version": "3.8.13"
  },
  "orig_nbformat": 4,
  "vscode": {
   "interpreter": {
    "hash": "40d3a090f54c6569ab1632332b64b2c03c39dcf918b08424e98f38b5ae0af88f"
   }
  }
 },
 "nbformat": 4,
 "nbformat_minor": 2
}
